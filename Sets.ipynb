{
  "nbformat": 4,
  "nbformat_minor": 0,
  "metadata": {
    "colab": {
      "name": "Sets.ipynb",
      "provenance": [],
      "authorship_tag": "ABX9TyP38e7S72VZIEtWwEkogxwK",
      "include_colab_link": true
    },
    "kernelspec": {
      "name": "python3",
      "display_name": "Python 3"
    }
  },
  "cells": [
    {
      "cell_type": "markdown",
      "metadata": {
        "id": "view-in-github",
        "colab_type": "text"
      },
      "source": [
        "<a href=\"https://colab.research.google.com/github/MohoshiHaque/Python-Code/blob/master/Sets.ipynb\" target=\"_parent\"><img src=\"https://colab.research.google.com/assets/colab-badge.svg\" alt=\"Open In Colab\"/></a>"
      ]
    },
    {
      "cell_type": "code",
      "metadata": {
        "id": "MBg9amKimCsp",
        "colab_type": "code",
        "outputId": "1d84b306-aa23-4000-ff85-0fb640d0cc32",
        "colab": {
          "base_uri": "https://localhost:8080/",
          "height": 34
        }
      },
      "source": [
        "#Sets\n",
        "#Sets are unordered so it changes everytime when you press run button\n",
        "name={'Mashrafee','Sakib','Tamim','Mahmud','Mushfiq','Soumya'}\n",
        "print(name)"
      ],
      "execution_count": 0,
      "outputs": [
        {
          "output_type": "stream",
          "text": [
            "{'Tamim', 'Soumya', 'Mushfiq', 'Mashrafee', 'Mahmud', 'Sakib'}\n"
          ],
          "name": "stdout"
        }
      ]
    },
    {
      "cell_type": "code",
      "metadata": {
        "id": "rPnbzFDypJad",
        "colab_type": "code",
        "outputId": "c9d2b316-6fb3-4ffc-b3ce-1f8a5b764509",
        "colab": {
          "base_uri": "https://localhost:8080/",
          "height": 119
        }
      },
      "source": [
        "#Print using for loop\n",
        "for x in name:\n",
        "  print(x)"
      ],
      "execution_count": 0,
      "outputs": [
        {
          "output_type": "stream",
          "text": [
            "Tamim\n",
            "Soumya\n",
            "Mushfiq\n",
            "Mashrafee\n",
            "Mahmud\n",
            "Sakib\n"
          ],
          "name": "stdout"
        }
      ]
    },
    {
      "cell_type": "code",
      "metadata": {
        "id": "ejAfo0dApSHr",
        "colab_type": "code",
        "outputId": "8729ffb5-acef-4ba5-c643-8036cf15e45c",
        "colab": {
          "base_uri": "https://localhost:8080/",
          "height": 34
        }
      },
      "source": [
        "#Check some elements using if method\n",
        "print('Mominul' in name)"
      ],
      "execution_count": 0,
      "outputs": [
        {
          "output_type": "stream",
          "text": [
            "False\n"
          ],
          "name": "stdout"
        }
      ]
    },
    {
      "cell_type": "code",
      "metadata": {
        "id": "iK0SQMyDph1d",
        "colab_type": "code",
        "outputId": "e6d2a365-cd99-4267-98ac-26ca0c9931a9",
        "colab": {
          "base_uri": "https://localhost:8080/",
          "height": 34
        }
      },
      "source": [
        "#Add method for one element\n",
        "name.add(\"Mustafiz\")\n",
        "print(name)"
      ],
      "execution_count": 0,
      "outputs": [
        {
          "output_type": "stream",
          "text": [
            "{'Tamim', 'Soumya', 'Mushfiq', 'Mashrafee', 'Mahmud', 'Sakib', 'Mustafiz'}\n"
          ],
          "name": "stdout"
        }
      ]
    },
    {
      "cell_type": "code",
      "metadata": {
        "id": "KLEzwbksqLts",
        "colab_type": "code",
        "outputId": "20850555-a117-46ca-d189-f7c6204a64f0",
        "colab": {
          "base_uri": "https://localhost:8080/",
          "height": 34
        }
      },
      "source": [
        "#if you want to add more than one element using update\n",
        "name.update(['Imrul','Taskin','Rubel'])\n",
        "print(name)"
      ],
      "execution_count": 0,
      "outputs": [
        {
          "output_type": "stream",
          "text": [
            "{'Tamim', 'Soumya', 'Taskin', 'Imrul', 'Mushfiq', 'Mashrafee', 'Mahmud', 'Sakib', 'Mustafiz', 'Rubel'}\n"
          ],
          "name": "stdout"
        }
      ]
    },
    {
      "cell_type": "code",
      "metadata": {
        "id": "AuWn_X8dsymX",
        "colab_type": "code",
        "outputId": "9048c3a5-70d5-493a-b4b8-d7116b0a38fa",
        "colab": {
          "base_uri": "https://localhost:8080/",
          "height": 34
        }
      },
      "source": [
        "print(len(name))"
      ],
      "execution_count": 0,
      "outputs": [
        {
          "output_type": "stream",
          "text": [
            "10\n"
          ],
          "name": "stdout"
        }
      ]
    },
    {
      "cell_type": "code",
      "metadata": {
        "id": "MJLxQ9yVs5Zh",
        "colab_type": "code",
        "outputId": "c6e891af-8cb9-4645-819d-1ccab7562069",
        "colab": {
          "base_uri": "https://localhost:8080/",
          "height": 34
        }
      },
      "source": [
        "#Using discard rather than remove method\n",
        "name.discard(\"Tamim\")\n",
        "print(name)"
      ],
      "execution_count": 0,
      "outputs": [
        {
          "output_type": "stream",
          "text": [
            "{'Soumya', 'Taskin', 'Imrul', 'Mushfiq', 'Mashrafee', 'Mahmud', 'Sakib', 'Mustafiz', 'Rubel'}\n"
          ],
          "name": "stdout"
        }
      ]
    },
    {
      "cell_type": "code",
      "metadata": {
        "id": "yXeofs7itOkg",
        "colab_type": "code",
        "outputId": "3de87a7c-83f3-47bb-f298-0d5b7c467863",
        "colab": {
          "base_uri": "https://localhost:8080/",
          "height": 51
        }
      },
      "source": [
        "#Pop method\n",
        "x=name.pop()\n",
        "print(x)\n",
        "print(name)"
      ],
      "execution_count": 0,
      "outputs": [
        {
          "output_type": "stream",
          "text": [
            "Soumya\n",
            "{'Taskin', 'Imrul', 'Mushfiq', 'Mashrafee', 'Mahmud', 'Sakib', 'Mustafiz', 'Rubel'}\n"
          ],
          "name": "stdout"
        }
      ]
    },
    {
      "cell_type": "code",
      "metadata": {
        "id": "FPCMoI-9teHQ",
        "colab_type": "code",
        "outputId": "deeb58fd-a752-4605-8f2d-f3f676fedf60",
        "colab": {
          "base_uri": "https://localhost:8080/",
          "height": 34
        }
      },
      "source": [
        "#Joing method\n",
        "blue_eyes={'Nadia','Sadia','Faiza','Razia','Rishi'}\n",
        "Black_hair={'Nadia','Faiza','Momen','Mohoshi','Razia'}\n",
        "o_blood={'Mohoshi','Momen','Faiza','nasir'}\n",
        "ab_blood={'Sadia','Rishi','Nayeem'}\n",
        "#Union Method\n",
        "o_blood.union(blue_eyes)\n",
        "#Intersection\n",
        "blue_eyes.intersection(ab_blood)\n",
        "#Difference\n",
        "blue_eyes.difference(Black_hair)\n",
        "#Symmetric diffference\n",
        "blue_eyes.symmetric_difference(o_blood)\n"
      ],
      "execution_count": 0,
      "outputs": [
        {
          "output_type": "execute_result",
          "data": {
            "text/plain": [
              "{'Mohoshi', 'Momen', 'Nadia', 'Razia', 'Rishi', 'Sadia', 'nasir'}"
            ]
          },
          "metadata": {
            "tags": []
          },
          "execution_count": 22
        }
      ]
    }
  ]
}
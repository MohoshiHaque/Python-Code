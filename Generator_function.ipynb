{
  "nbformat": 4,
  "nbformat_minor": 0,
  "metadata": {
    "colab": {
      "name": "Generator function.ipynb",
      "provenance": [],
      "authorship_tag": "ABX9TyM1V/K+PvIERJ+Xow8FEliS",
      "include_colab_link": true
    },
    "kernelspec": {
      "name": "python3",
      "display_name": "Python 3"
    }
  },
  "cells": [
    {
      "cell_type": "markdown",
      "metadata": {
        "id": "view-in-github",
        "colab_type": "text"
      },
      "source": [
        "<a href=\"https://colab.research.google.com/github/MohoshiHaque/Python-Code/blob/master/Generator_function.ipynb\" target=\"_parent\"><img src=\"https://colab.research.google.com/assets/colab-badge.svg\" alt=\"Open In Colab\"/></a>"
      ]
    },
    {
      "cell_type": "code",
      "metadata": {
        "id": "IgjA_jLHp9g9",
        "colab_type": "code",
        "outputId": "d0fd13d0-ebe1-475b-dfd5-913e1ddaf7a3",
        "colab": {
          "base_uri": "https://localhost:8080/",
          "height": 68
        }
      },
      "source": [
        "#Generator function\n",
        "def Generator_function():\n",
        "  yield 1\n",
        "  yield 2\n",
        "  yield 3\n",
        "\n",
        "for value in Generator_function():\n",
        "  print(value)  "
      ],
      "execution_count": 0,
      "outputs": [
        {
          "output_type": "stream",
          "text": [
            "1\n",
            "2\n",
            "3\n"
          ],
          "name": "stdout"
        }
      ]
    },
    {
      "cell_type": "code",
      "metadata": {
        "id": "DCrb154nxgwv",
        "colab_type": "code",
        "outputId": "4d7f0e47-4c0a-49f2-ae64-bd03baebc0ac",
        "colab": {
          "base_uri": "https://localhost:8080/",
          "height": 51
        }
      },
      "source": [
        "#Generator function-2\n",
        "def Momen(w):\n",
        "  for x,y in w.items():\n",
        "    yield x,y\n",
        "a={1:\"Nayeem\",2:\"Jubair\"}\n",
        "b=Momen(a)\n",
        "print(b)\n",
        "next(b)\n",
        "next(b)"
      ],
      "execution_count": 0,
      "outputs": [
        {
          "output_type": "stream",
          "text": [
            "<generator object Momen at 0x7f82e7f81ca8>\n"
          ],
          "name": "stdout"
        },
        {
          "output_type": "execute_result",
          "data": {
            "text/plain": [
              "(2, 'Jubair')"
            ]
          },
          "metadata": {
            "tags": []
          },
          "execution_count": 19
        }
      ]
    }
  ]
}
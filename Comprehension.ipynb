{
  "nbformat": 4,
  "nbformat_minor": 0,
  "metadata": {
    "colab": {
      "name": "Comprehension.ipynb",
      "provenance": [],
      "authorship_tag": "ABX9TyMK47PWqZjMDuRYJF3bM6Zr",
      "include_colab_link": true
    },
    "kernelspec": {
      "name": "python3",
      "display_name": "Python 3"
    }
  },
  "cells": [
    {
      "cell_type": "markdown",
      "metadata": {
        "id": "view-in-github",
        "colab_type": "text"
      },
      "source": [
        "<a href=\"https://colab.research.google.com/github/MohoshiHaque/Python-Code/blob/master/Comprehension.ipynb\" target=\"_parent\"><img src=\"https://colab.research.google.com/assets/colab-badge.svg\" alt=\"Open In Colab\"/></a>"
      ]
    },
    {
      "cell_type": "code",
      "metadata": {
        "id": "-qjblB-4lM6N",
        "colab_type": "code",
        "colab": {
          "base_uri": "https://localhost:8080/",
          "height": 51
        },
        "outputId": "a097db4c-5b6c-4258-865d-d4c21d4ba7a0"
      },
      "source": [
        "#List Comprehension\n",
        "words=\"My schools name is Thrust Robotics School\".split()\n",
        "print(words)\n",
        "lengths=[]\n",
        "for i in words:\n",
        "  lengths.append(len(i))\n",
        "print(lengths)  "
      ],
      "execution_count": 5,
      "outputs": [
        {
          "output_type": "stream",
          "text": [
            "['My', 'schools', 'name', 'is', 'Thrust', 'Robotics', 'School']\n",
            "[2, 7, 4, 2, 6, 8, 6]\n"
          ],
          "name": "stdout"
        }
      ]
    }
  ]
}
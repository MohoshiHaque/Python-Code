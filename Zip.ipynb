{
  "nbformat": 4,
  "nbformat_minor": 0,
  "metadata": {
    "colab": {
      "name": "Zip.ipynb",
      "provenance": [],
      "authorship_tag": "ABX9TyPlIr6Dwks7tAF7jOc56KhC",
      "include_colab_link": true
    },
    "kernelspec": {
      "name": "python3",
      "display_name": "Python 3"
    }
  },
  "cells": [
    {
      "cell_type": "markdown",
      "metadata": {
        "id": "view-in-github",
        "colab_type": "text"
      },
      "source": [
        "<a href=\"https://colab.research.google.com/github/MohoshiHaque/Python-Code/blob/master/Zip.ipynb\" target=\"_parent\"><img src=\"https://colab.research.google.com/assets/colab-badge.svg\" alt=\"Open In Colab\"/></a>"
      ]
    },
    {
      "cell_type": "code",
      "metadata": {
        "id": "cy4AQJL-8N6h",
        "colab_type": "code",
        "colab": {
          "base_uri": "https://localhost:8080/",
          "height": 102
        },
        "outputId": "75f84cf3-8c7d-4639-a181-a3228cb1ae80"
      },
      "source": [
        "#Zip example\n",
        "Saturday=[1,2,3,4,5]\n",
        "Sunday=[10,20,30,40,50]\n",
        "for i in zip(Saturday,Sunday):\n",
        "  print(i)"
      ],
      "execution_count": 2,
      "outputs": [
        {
          "output_type": "stream",
          "text": [
            "(1, 10)\n",
            "(2, 20)\n",
            "(3, 30)\n",
            "(4, 40)\n",
            "(5, 50)\n"
          ],
          "name": "stdout"
        }
      ]
    }
  ]
}
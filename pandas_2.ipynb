{
  "nbformat": 4,
  "nbformat_minor": 0,
  "metadata": {
    "colab": {
      "name": "pandas-2.ipynb",
      "provenance": [],
      "authorship_tag": "ABX9TyN7PICDNQfT9utSGOLgITWG",
      "include_colab_link": true
    },
    "kernelspec": {
      "name": "python3",
      "display_name": "Python 3"
    }
  },
  "cells": [
    {
      "cell_type": "markdown",
      "metadata": {
        "id": "view-in-github",
        "colab_type": "text"
      },
      "source": [
        "<a href=\"https://colab.research.google.com/github/MohoshiHaque/Python-Code/blob/master/pandas_2.ipynb\" target=\"_parent\"><img src=\"https://colab.research.google.com/assets/colab-badge.svg\" alt=\"Open In Colab\"/></a>"
      ]
    },
    {
      "cell_type": "code",
      "metadata": {
        "id": "ZjCnZAh_kuBF",
        "colab_type": "code",
        "outputId": "d98af4cb-8004-460b-a368-fc192dc64726",
        "colab": {
          "base_uri": "https://localhost:8080/",
          "height": 102
        }
      },
      "source": [
        "import pandas as pd\n",
        "data={ 'weekdays':['Sun','Sun','Mon','Mon'],\n",
        "      'city':['ctg','Dhk','ctg','Dhk'],\n",
        "      'visitors':[139,123,12,222],\n",
        "      'signups':[5,2,4,5]    \n",
        "}\n",
        "\n",
        "users=pd.DataFrame(data)\n",
        "print(users)"
      ],
      "execution_count": 0,
      "outputs": [
        {
          "output_type": "stream",
          "text": [
            "  weekdays city  visitors  signups\n",
            "0      Sun  ctg       139        5\n",
            "1      Sun  Dhk       123        2\n",
            "2      Mon  ctg        12        4\n",
            "3      Mon  Dhk       222        5\n"
          ],
          "name": "stdout"
        }
      ]
    },
    {
      "cell_type": "code",
      "metadata": {
        "id": "xC0QwB5joCXl",
        "colab_type": "code",
        "outputId": "b6b6ae98-fcfd-41c8-8c99-fe288b28020a",
        "colab": {
          "base_uri": "https://localhost:8080/",
          "height": 139
        }
      },
      "source": [
        "import pandas as pd \n",
        "week=['Sun','Mon','Tue','Fri']\n",
        "varsity=['NSU','AIUB','AUST','BRAC']\n",
        "student=[12,34,56,78]\n",
        "Grade=[4,5,3,4]\n",
        "col_name=['Weekdays','varsity name','Student name','Student Grade']\n",
        "col_element=[week,varsity,student,Grade]\n",
        "zipped=list(zip(col_name,col_element))\n",
        "print(zipped)\n",
        "x=dict(zipped)\n",
        "y=pd.DataFrame(x)\n",
        "print(y)"
      ],
      "execution_count": 0,
      "outputs": [
        {
          "output_type": "stream",
          "text": [
            "[('Weekdays', ['Sun', 'Mon', 'Tue', 'Fri']), ('varsity name', ['NSU', 'AIUB', 'AUST', 'BRAC']), ('Student name', [12, 34, 56, 78]), ('Student Grade', [4, 5, 3, 4])]\n",
            "  Weekdays varsity name  Student name  Student Grade\n",
            "0      Sun          NSU            12              4\n",
            "1      Mon         AIUB            34              5\n",
            "2      Tue         AUST            56              3\n",
            "3      Fri         BRAC            78              4\n"
          ],
          "name": "stdout"
        }
      ]
    },
    {
      "cell_type": "code",
      "metadata": {
        "id": "7IO6yEN3sFqS",
        "colab_type": "code",
        "outputId": "a1b58023-798d-418f-ac36-7534105e18e0",
        "colab": {
          "base_uri": "https://localhost:8080/",
          "height": 102
        }
      },
      "source": [
        "#Add colom with value\n",
        "y['Fees']=1\n",
        "print(y)"
      ],
      "execution_count": 0,
      "outputs": [
        {
          "output_type": "stream",
          "text": [
            "  Weekdays varsity name  Student name  Student Grade  Fees\n",
            "0      Sun          NSU            12              4     1\n",
            "1      Mon         AIUB            34              5     1\n",
            "2      Tue         AUST            56              3     1\n",
            "3      Fri         BRAC            78              4     1\n"
          ],
          "name": "stdout"
        }
      ]
    }
  ]
}